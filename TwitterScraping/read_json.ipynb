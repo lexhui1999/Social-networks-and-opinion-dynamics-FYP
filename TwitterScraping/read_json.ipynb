{
 "cells": [
  {
   "cell_type": "code",
   "execution_count": 153,
   "metadata": {},
   "outputs": [],
   "source": [
    "import glob\n",
    "import json\n",
    "import pandas as pd"
   ]
  },
  {
   "cell_type": "code",
   "execution_count": 154,
   "metadata": {
    "scrolled": true
   },
   "outputs": [
    {
     "name": "stdout",
     "output_type": "stream",
     "text": [
      "dict_keys(['pmarca', 'novogratz', 'rogerkver', 'needacoin', 'crypto_rand', 'ToneVays', 'legendofcrypto', 'CryptoChoe', 'cryptoBully', 'VitalikButerin', 'peterlbrandt', 'NicTrades', 'DiaryofaMademan', 'crypto_God', 'tuurdemeester', 'APompliano', 'lopp', 'nickszabo4', 'IOHK_Charles', 'CryptoCobain', '6BillionPeople', 'cryptodemedici', 'CryptoOrca', 'VinnyLingham', 'WhalePanda', 'cryptopathic', 'IAMJOSEPHYYOUNG', 'CryptoHustle', 'gavinandresen', 'Crypto_goat_', 'PhilakoneCrypt', 'aantonop', 'brian_armstrong', 'cryptobanger', '22loops', 'CryptoYoda1338', 'VentureCoinist', 'secretsofcrypto', 'barrysilbert', 'Thecryptodog', 'onemanatatime', 'cryptomocho', 'officialmcafee', 'erikvoorhees', 'IOTA_Charles', 'thecryptomofo', 'cryptogat', 'balajis', 'ZeusZissou', 'CremeDeLaCrypto', 'CryptoTutor', 'cz_binance', 'jimmysong', 'justinsuntron', 'angelabtc', 'notsofast', 'charlieshrem', 'SatoshiLite'])\n"
     ]
    }
   ],
   "source": [
    "tweets_dict = {}\n",
    "\n",
    "# Read every *.jsons file in the ./tweet_jsons/ directory and copy them into a pandas dataframe\n",
    "for filepath in glob.iglob('./tweet_jsons/*.json'):\n",
    "    f = open(filepath, \"r\")\n",
    "    tweets_df = pd.read_json(filepath, lines=True)\n",
    "    tweets_dict[filepath[14:-5]] = tweets_df\n",
    "    \n",
    "print(tweets_dict.keys())"
   ]
  },
  {
   "cell_type": "code",
   "execution_count": 155,
   "metadata": {
    "scrolled": false
   },
   "outputs": [],
   "source": [
    "#Keyword filtering: only retain tweets related to cryptocurrency and remove empty lists\n",
    "\n",
    "keywords = [\"btc\", \"ethereum\", \"coin\", \"crypto\", \"hodl\"]\n",
    "\n",
    "for key in list(tweets_dict.keys()):\n",
    "    #print(tweets_dict[key])\n",
    "    if not tweets_dict[key].empty:\n",
    "        tweets_dict[key] = tweets_dict[key][tweets_dict[key][\"content\"].str.contains('|'.join(keywords), na = False, case = False)]\n",
    "    if tweets_dict[key].empty:\n",
    "        del tweets_dict[key]"
   ]
  },
  {
   "cell_type": "code",
   "execution_count": 158,
   "metadata": {},
   "outputs": [
    {
     "name": "stdout",
     "output_type": "stream",
     "text": [
      "dict_keys(['novogratz', 'rogerkver', 'needacoin', 'crypto_rand', 'ToneVays', 'VitalikButerin', 'peterlbrandt', 'NicTrades', 'DiaryofaMademan', 'APompliano', 'lopp', 'nickszabo4', 'IOHK_Charles', 'CryptoCobain', '6BillionPeople', 'VinnyLingham', 'WhalePanda', 'cryptopathic', 'CryptoHustle', 'gavinandresen', 'Crypto_goat_', 'aantonop', 'brian_armstrong', 'cryptobanger', '22loops', 'CryptoYoda1338', 'VentureCoinist', 'secretsofcrypto', 'barrysilbert', 'Thecryptodog', 'onemanatatime', 'cryptomocho', 'officialmcafee', 'erikvoorhees', 'balajis', 'ZeusZissou', 'CremeDeLaCrypto', 'CryptoTutor', 'cz_binance', 'jimmysong', 'justinsuntron', 'notsofast', 'charlieshrem', 'SatoshiLite'])\n"
     ]
    }
   ],
   "source": [
    "print(tweets_dict.keys())"
   ]
  },
  {
   "cell_type": "code",
   "execution_count": null,
   "metadata": {},
   "outputs": [],
   "source": []
  }
 ],
 "metadata": {
  "kernelspec": {
   "display_name": "Python 3",
   "language": "python",
   "name": "python3"
  },
  "language_info": {
   "codemirror_mode": {
    "name": "ipython",
    "version": 3
   },
   "file_extension": ".py",
   "mimetype": "text/x-python",
   "name": "python",
   "nbconvert_exporter": "python",
   "pygments_lexer": "ipython3",
   "version": "3.8.5"
  }
 },
 "nbformat": 4,
 "nbformat_minor": 4
}
