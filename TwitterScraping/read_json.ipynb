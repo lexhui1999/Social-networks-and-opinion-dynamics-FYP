{
 "cells": [
  {
   "cell_type": "code",
   "execution_count": 19,
   "metadata": {},
   "outputs": [],
   "source": [
    "import glob\n",
    "import json\n",
    "import pandas as pd\n",
    "import re"
   ]
  },
  {
   "cell_type": "code",
   "execution_count": 20,
   "metadata": {},
   "outputs": [],
   "source": [
    "def clean(x):\n",
    "    x = re.sub(r'\\w*@\\w*', '', x)\n",
    "    return x"
   ]
  },
  {
   "cell_type": "code",
   "execution_count": 22,
   "metadata": {
    "scrolled": true
   },
   "outputs": [
    {
     "name": "stdout",
     "output_type": "stream",
     "text": [
      "./tweet_jsons/pmarca.json\n",
      "./tweet_jsons/novogratz.json\n",
      "./tweet_jsons/rogerkver.json\n",
      "./tweet_jsons/needacoin.json\n",
      "./tweet_jsons/crypto_rand.json\n",
      "./tweet_jsons/ToneVays.json\n",
      "./tweet_jsons/legendofcrypto.json\n",
      "./tweet_jsons/CryptoChoe.json\n",
      "./tweet_jsons/cryptoBully.json\n",
      "./tweet_jsons/VitalikButerin.json\n",
      "./tweet_jsons/peterlbrandt.json\n",
      "./tweet_jsons/NicTrades.json\n",
      "./tweet_jsons/DiaryofaMademan.json\n",
      "./tweet_jsons/crypto_God.json\n",
      "./tweet_jsons/tuurdemeester.json\n",
      "./tweet_jsons/APompliano.json\n",
      "./tweet_jsons/lopp.json\n",
      "./tweet_jsons/nickszabo4.json\n",
      "./tweet_jsons/IOHK_Charles.json\n",
      "./tweet_jsons/CryptoCobain.json\n",
      "./tweet_jsons/6BillionPeople.json\n",
      "./tweet_jsons/cryptodemedici.json\n",
      "./tweet_jsons/CryptoOrca.json\n",
      "./tweet_jsons/VinnyLingham.json\n",
      "./tweet_jsons/WhalePanda.json\n",
      "./tweet_jsons/cryptopathic.json\n",
      "./tweet_jsons/IAMJOSEPHYYOUNG.json\n",
      "./tweet_jsons/CryptoHustle.json\n",
      "./tweet_jsons/gavinandresen.json\n",
      "./tweet_jsons/Crypto_goat_.json\n",
      "./tweet_jsons/PhilakoneCrypt.json\n",
      "./tweet_jsons/aantonop.json\n",
      "./tweet_jsons/brian_armstrong.json\n",
      "./tweet_jsons/cryptobanger.json\n",
      "./tweet_jsons/22loops.json\n",
      "./tweet_jsons/CryptoYoda1338.json\n",
      "./tweet_jsons/VentureCoinist.json\n",
      "./tweet_jsons/secretsofcrypto.json\n",
      "./tweet_jsons/barrysilbert.json\n",
      "./tweet_jsons/Thecryptodog.json\n",
      "./tweet_jsons/onemanatatime.json\n",
      "./tweet_jsons/cryptomocho.json\n",
      "./tweet_jsons/officialmcafee.json\n",
      "./tweet_jsons/erikvoorhees.json\n",
      "./tweet_jsons/IOTA_Charles.json\n",
      "./tweet_jsons/thecryptomofo.json\n",
      "./tweet_jsons/cryptogat.json\n",
      "./tweet_jsons/balajis.json\n",
      "./tweet_jsons/ZeusZissou.json\n",
      "./tweet_jsons/CremeDeLaCrypto.json\n",
      "./tweet_jsons/CryptoTutor.json\n",
      "./tweet_jsons/cz_binance.json\n",
      "./tweet_jsons/jimmysong.json\n",
      "./tweet_jsons/justinsuntron.json\n",
      "./tweet_jsons/angelabtc.json\n",
      "./tweet_jsons/notsofast.json\n",
      "./tweet_jsons/charlieshrem.json\n",
      "./tweet_jsons/SatoshiLite.json\n"
     ]
    }
   ],
   "source": [
    "tweets_dict = {}\n",
    "\n",
    "# Read every *.jsons file in the ./tweet_jsons/ directory and copy them into a pandas dataframe\n",
    "for filepath in glob.iglob('./tweet_jsons/*.json'):\n",
    "    tweets_df = pd.read_json(filepath, lines=True)\n",
    "        \n",
    "    if not tweets_df.empty:\n",
    "        tweets_df[\"content\"] = tweets_df[\"content\"].astype(str)\n",
    "        tweets_df[\"content\"] = tweets_df[\"content\"].apply(clean)\n",
    "    \n",
    "    tweets_dict[filepath[14:-5]] = tweets_df\n",
    "    \n",
    "print(list(tweets_dict.keys()))"
   ]
  },
  {
   "cell_type": "code",
   "execution_count": 23,
   "metadata": {
    "scrolled": false
   },
   "outputs": [],
   "source": [
    "#Keyword filtering: only retain tweets related to cryptocurrency and remove empty lists\n",
    "\n",
    "keywords = [\"btc\", \"bitcoin\", \"XBT\", \"satoshi\"]\n",
    "\n",
    "for key in list(tweets_dict.keys()):\n",
    "    #print(tweets_dict[key])\n",
    "    if not tweets_dict[key].empty:\n",
    "        tweets_dict[key] = tweets_dict[key][tweets_dict[key][\"content\"].str.contains('|'.join(keywords), na = False, case = False)]\n",
    "    if tweets_dict[key].empty:\n",
    "        del tweets_dict[key]"
   ]
  },
  {
   "cell_type": "code",
   "execution_count": 24,
   "metadata": {},
   "outputs": [
    {
     "name": "stdout",
     "output_type": "stream",
     "text": [
      "Stored 'users' (list)\n",
      "Stored 'tweets_dict' (dict)\n"
     ]
    }
   ],
   "source": [
    "users = list(tweets_dict.keys())\n",
    "%store users\n",
    "%store tweets_dict"
   ]
  }
 ],
 "metadata": {
  "kernelspec": {
   "display_name": "Python 3",
   "language": "python",
   "name": "python3"
  },
  "language_info": {
   "codemirror_mode": {
    "name": "ipython",
    "version": 3
   },
   "file_extension": ".py",
   "mimetype": "text/x-python",
   "name": "python",
   "nbconvert_exporter": "python",
   "pygments_lexer": "ipython3",
   "version": "3.8.5"
  }
 },
 "nbformat": 4,
 "nbformat_minor": 4
}
